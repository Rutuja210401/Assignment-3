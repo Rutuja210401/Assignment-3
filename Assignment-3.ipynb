{
 "cells": [
  {
   "cell_type": "code",
   "execution_count": 24,
   "id": "4003d325",
   "metadata": {},
   "outputs": [
    {
     "name": "stdout",
     "output_type": "stream",
     "text": [
      "Enter the list: 8 2 3 0 7\n",
      "20\n"
     ]
    }
   ],
   "source": [
    "# Write a Python function to sum all the numbers in a list.\n",
    "# Sample List : (8, 2, 3, 0, 7)\n",
    "# Expected Output : 20\n",
    "# solution:\n",
    "def sum(list1):\n",
    "    sum1=0\n",
    "    for i in list1:\n",
    "        sum1=sum1+i\n",
    "    print(sum1)\n",
    "list1=list(map(int,input(\"Enter the list: \").split()))\n",
    "sum(list1)"
   ]
  },
  {
   "cell_type": "code",
   "execution_count": 29,
   "id": "b10806db",
   "metadata": {},
   "outputs": [
    {
     "name": "stdout",
     "output_type": "stream",
     "text": [
      "Enter the string: 1234abcd\n"
     ]
    },
    {
     "data": {
      "text/plain": [
       "'dcba4321'"
      ]
     },
     "execution_count": 29,
     "metadata": {},
     "output_type": "execute_result"
    }
   ],
   "source": [
    "# Write a Python program to reverse a string.\n",
    "# Sample String : \"1234abcd\"\n",
    "# Expected Output : \"dcba4321\"\n",
    "\n",
    "def reverse_string(str1):\n",
    "    str2=\"\"\n",
    "    for i in str1:\n",
    "        str2=i+str2\n",
    "    return(str2)\n",
    "\n",
    "str1=map(str,input(\"Enter the string: \"))\n",
    "reverse_string(str1)\n",
    "        "
   ]
  },
  {
   "cell_type": "code",
   "execution_count": 31,
   "id": "76b2eb1b",
   "metadata": {},
   "outputs": [],
   "source": [
    "###  OR  ###"
   ]
  },
  {
   "cell_type": "code",
   "execution_count": 33,
   "id": "891584d0",
   "metadata": {},
   "outputs": [
    {
     "name": "stdout",
     "output_type": "stream",
     "text": [
      "Enter the string:  1234abcd\n"
     ]
    },
    {
     "data": {
      "text/plain": [
       "'dcba4321 '"
      ]
     },
     "execution_count": 33,
     "metadata": {},
     "output_type": "execute_result"
    }
   ],
   "source": [
    "def reverse_string(str1):\n",
    "    str1=str1[::-1]\n",
    "    return str1\n",
    "str1=(input(\"Enter the string: \"))\n",
    "reverse_string(str1)\n"
   ]
  },
  {
   "cell_type": "code",
   "execution_count": 37,
   "id": "cde9d171",
   "metadata": {},
   "outputs": [
    {
     "name": "stdout",
     "output_type": "stream",
     "text": [
      "Enter the string: The quick Brow Fox\n",
      "No.of upper case:  3\n",
      "No. of lower case:  12\n"
     ]
    }
   ],
   "source": [
    "# Write a Python function that accepts a string and calculate the number of upper case letters and lower case letters.\n",
    "# Sample String : 'The quick Brow Fox'\n",
    "# Expected Output :\n",
    "# No. of Upper case characters : 3\n",
    "# No. of Lower case Characters : 12\n",
    "\n",
    "def case(str1):\n",
    "    a={\"Upper case\":0,\"Lower case\":0}\n",
    "    for i in str1:\n",
    "        if i.isupper():\n",
    "            a[\"Upper case\"]+=1\n",
    "        elif i.islower():\n",
    "            a[\"Lower case\"]+=1\n",
    "        else:\n",
    "             pass\n",
    "            \n",
    "            \n",
    "    print(\"No.of upper case: \",a[\"Upper case\"])\n",
    "    print(\"No. of lower case: \",a[\"Lower case\"])\n",
    "    \n",
    "str1=(input(\"Enter the string: \"))\n",
    "case(str1)\n",
    "\n"
   ]
  },
  {
   "cell_type": "code",
   "execution_count": null,
   "id": "75197da0",
   "metadata": {},
   "outputs": [],
   "source": []
  }
 ],
 "metadata": {
  "kernelspec": {
   "display_name": "Python 3 (ipykernel)",
   "language": "python",
   "name": "python3"
  },
  "language_info": {
   "codemirror_mode": {
    "name": "ipython",
    "version": 3
   },
   "file_extension": ".py",
   "mimetype": "text/x-python",
   "name": "python",
   "nbconvert_exporter": "python",
   "pygments_lexer": "ipython3",
   "version": "3.11.4"
  }
 },
 "nbformat": 4,
 "nbformat_minor": 5
}
